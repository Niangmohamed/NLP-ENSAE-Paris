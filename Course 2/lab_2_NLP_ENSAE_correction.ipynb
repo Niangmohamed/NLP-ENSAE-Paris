{
  "nbformat": 4,
  "nbformat_minor": 0,
  "metadata": {
    "colab": {
      "name": "lab-2-NLP-ENSAE-correction.ipynb",
      "provenance": [],
      "collapsed_sections": [],
      "toc_visible": true
    },
    "kernelspec": {
      "name": "python3",
      "display_name": "Python 3"
    }
  },
  "cells": [
    {
      "cell_type": "markdown",
      "metadata": {
        "id": "Uy2u0Ngs1R-w",
        "colab_type": "text"
      },
      "source": [
        "# Lab session 2 : Word Embeddings and their evaluation\n",
        "\n",
        "In this session we will use the following corpuses to train embeddings : \n",
        "- A political media corpus, consisting of tweets from politicians\n",
        "- Economical news\n",
        "- A corpus containing stories of films from the IMDB\n",
        "- A corpus containing human-rated similarities between\n",
        "\n",
        "## 1. Write a function that cleans a given text, i.e :\n",
        " - Lower-case the text\n",
        " - Tokenizes\n",
        " - Separates sentences\n",
        " - Detects multi-word expressions (i.e. \"New\", York\" becomes \"New York\")\n",
        "\n",
        "## 2. Build the 3 cleaned corpuses with your cleaning function. (1 corpus = 1 list of cleaned and tokenized sentences).\n",
        "\n",
        "## 3. Train a Word2Vec model with Gensim for the 3 corpuses, and explore the most similar words to \"man\", \"woman\", \"politician', etc. for the corpuses. \n",
        "\n",
        "## 4. Export the embeddings as two .tsv files to use projector.tensorflow.org interactive visualisation. \n",
        "\n",
        "## 5. Write an evaluation function that computes the correlation coefficient between human-rated similarity and Word2Vec's cosine similarity\n",
        "\n",
        "\n"
      ]
    },
    {
      "cell_type": "code",
      "metadata": {
        "id": "jPzymkod1P9E",
        "colab_type": "code",
        "outputId": "29096dba-c50e-42fd-c637-d364593bbd81",
        "colab": {
          "base_uri": "https://localhost:8080/",
          "height": 610
        }
      },
      "source": [
        "! wget https://d1p17r2m4rzlbo.cloudfront.net/wp-content/uploads/2016/03/Political-media-DFE.csv\n",
        "! wget https://d1p17r2m4rzlbo.cloudfront.net/wp-content/uploads/2016/03/Full-Economic-News-DFE-839861.csv"
      ],
      "execution_count": 0,
      "outputs": [
        {
          "output_type": "stream",
          "text": [
            "--2020-02-12 13:30:29--  https://d1p17r2m4rzlbo.cloudfront.net/wp-content/uploads/2016/03/Political-media-DFE.csv\n",
            "Resolving d1p17r2m4rzlbo.cloudfront.net (d1p17r2m4rzlbo.cloudfront.net)... 13.226.55.102, 13.226.55.97, 13.226.55.25, ...\n",
            "Connecting to d1p17r2m4rzlbo.cloudfront.net (d1p17r2m4rzlbo.cloudfront.net)|13.226.55.102|:443... connected.\n",
            "HTTP request sent, awaiting response... 200 OK\n",
            "Length: 4309577 (4.1M) [application/octet-stream]\n",
            "Saving to: ‘Political-media-DFE.csv’\n",
            "\n",
            "\rPolitical-media-DFE   0%[                    ]       0  --.-KB/s               \rPolitical-media-DFE 100%[===================>]   4.11M  22.0MB/s    in 0.2s    \n",
            "\n",
            "2020-02-12 13:30:29 (22.0 MB/s) - ‘Political-media-DFE.csv’ saved [4309577/4309577]\n",
            "\n",
            "--2020-02-12 13:30:32--  https://d1p17r2m4rzlbo.cloudfront.net/wp-content/uploads/2016/03/Full-Economic-News-DFE-839861.csv\n",
            "Resolving d1p17r2m4rzlbo.cloudfront.net (d1p17r2m4rzlbo.cloudfront.net)... 13.226.55.102, 13.226.55.97, 13.226.55.25, ...\n",
            "Connecting to d1p17r2m4rzlbo.cloudfront.net (d1p17r2m4rzlbo.cloudfront.net)|13.226.55.102|:443... connected.\n",
            "HTTP request sent, awaiting response... 200 OK\n",
            "Length: 12383529 (12M) [application/octet-stream]\n",
            "Saving to: ‘Full-Economic-News-DFE-839861.csv’\n",
            "\n",
            "Full-Economic-News- 100%[===================>]  11.81M  46.2MB/s    in 0.3s    \n",
            "\n",
            "2020-02-12 13:30:33 (46.2 MB/s) - ‘Full-Economic-News-DFE-839861.csv’ saved [12383529/12383529]\n",
            "\n",
            "--2020-02-12 13:30:35--  https://d1p17r2m4rzlbo.cloudfront.net/wp-content/uploads/2016/03/1377883875_similar_word_combinations-1.csv\n",
            "Resolving d1p17r2m4rzlbo.cloudfront.net (d1p17r2m4rzlbo.cloudfront.net)... 13.226.55.102, 13.226.55.97, 13.226.55.25, ...\n",
            "Connecting to d1p17r2m4rzlbo.cloudfront.net (d1p17r2m4rzlbo.cloudfront.net)|13.226.55.102|:443... connected.\n",
            "HTTP request sent, awaiting response... 200 OK\n",
            "Length: 214740 (210K) [application/octet-stream]\n",
            "Saving to: ‘1377883875_similar_word_combinations-1.csv’\n",
            "\n",
            "1377883875_similar_ 100%[===================>] 209.71K  --.-KB/s    in 0.08s   \n",
            "\n",
            "2020-02-12 13:30:36 (2.71 MB/s) - ‘1377883875_similar_word_combinations-1.csv’ saved [214740/214740]\n",
            "\n"
          ],
          "name": "stdout"
        }
      ]
    },
    {
      "cell_type": "markdown",
      "metadata": {
        "id": "53jKUztR-v1w",
        "colab_type": "text"
      },
      "source": [
        "WARNING : To get the movies_metadata.csv file, you need to upload in the runtime the file that is located in this drive. "
      ]
    },
    {
      "cell_type": "code",
      "metadata": {
        "id": "ZTgFkQkg4D-8",
        "colab_type": "code",
        "outputId": "09cb3479-66ef-4de0-c8a8-714d1fbe7ace",
        "colab": {
          "base_uri": "https://localhost:8080/",
          "height": 72
        }
      },
      "source": [
        "import pandas as pd\n",
        "df_pol = pd.read_csv('Political-media-DFE.csv', encoding='latin-1')\n",
        "df_eco = pd.read_csv('Full-Economic-News-DFE-839861.csv', encoding='latin-1')\n",
        "df_movies = pd.read_csv('movies_metadata.csv')\n",
        "df_sims = pd.read_csv('1377883875_similar_word_combinations-1.csv', encoding='latin-1')"
      ],
      "execution_count": 0,
      "outputs": [
        {
          "output_type": "stream",
          "text": [
            "/usr/local/lib/python3.6/dist-packages/IPython/core/interactiveshell.py:2718: DtypeWarning: Columns (10) have mixed types. Specify dtype option on import or set low_memory=False.\n",
            "  interactivity=interactivity, compiler=compiler, result=result)\n"
          ],
          "name": "stderr"
        }
      ]
    },
    {
      "cell_type": "markdown",
      "metadata": {
        "id": "Nq6ncWEYv3OQ",
        "colab_type": "text"
      },
      "source": [
        "Let's print some examples so we can see the preprocessing we have to do: \n",
        "\n"
      ]
    },
    {
      "cell_type": "code",
      "metadata": {
        "id": "yV15pNDB73Sh",
        "colab_type": "code",
        "outputId": "283da2a6-0220-4108-bdd5-e3460efb27ee",
        "colab": {
          "base_uri": "https://localhost:8080/",
          "height": 34
        }
      },
      "source": [
        "df_pol.text.iloc[0]"
      ],
      "execution_count": 0,
      "outputs": [
        {
          "output_type": "execute_result",
          "data": {
            "text/plain": [
              "'RT @nowthisnews: Rep. Trey Radel (R- #FL) slams #Obamacare. #politics https://t.co/zvywMG8yIH'"
            ]
          },
          "metadata": {
            "tags": []
          },
          "execution_count": 5
        }
      ]
    },
    {
      "cell_type": "code",
      "metadata": {
        "id": "2TKHEDf07582",
        "colab_type": "code",
        "outputId": "09c95e08-4e11-44a6-b1d4-93c3bdb4f752",
        "colab": {
          "base_uri": "https://localhost:8080/",
          "height": 54
        }
      },
      "source": [
        "df_eco.text.iloc[0]"
      ],
      "execution_count": 0,
      "outputs": [
        {
          "output_type": "execute_result",
          "data": {
            "text/plain": [
              "'NEW YORK -- Yields on most certificates of deposit offered by major banks dropped more than a tenth of a percentage point in the latest week, reflecting the overall decline in short-term interest rates.</br></br>On small-denomination, or \"consumer,\" CDs sold directly by banks, the average yield on six-month deposits fell to 5.49% from 5.62% in the week ended yesterday, according to an 18-bank survey by Banxquote Money Markets, a Wilmington, Del., information service.</br></br>On three-month \"consumer\" deposits, the average yield sank to 5.29% from 5.42% the week before, according to Banxquote. Two banks in the Banxquote survey, Citibank in New York and CoreStates in Pennsylvania, are paying less than 5% on threemonth small-denomination CDs.</br></br>Declines were somewhat smaller on five-year consumer CDs, which eased to 7.37% from 7.45%, Banxquote said.</br></br>Yields on three-month and six-month Treasury bills sold at Monday\\'s auction plummeted more than a fifth of a percentage point from the previous week, to 5.46% and 5.63%, respectively.'"
            ]
          },
          "metadata": {
            "tags": []
          },
          "execution_count": 6
        }
      ]
    },
    {
      "cell_type": "code",
      "metadata": {
        "id": "00yXiUMO78Xf",
        "colab_type": "code",
        "outputId": "5e44942b-29be-432d-f1d7-f74534f153eb",
        "colab": {
          "base_uri": "https://localhost:8080/",
          "height": 54
        }
      },
      "source": [
        "df_movies.overview.iloc[0]"
      ],
      "execution_count": 0,
      "outputs": [
        {
          "output_type": "execute_result",
          "data": {
            "text/plain": [
              "\"Led by Woody, Andy's toys live happily in his room until Andy's birthday brings Buzz Lightyear onto the scene. Afraid of losing his place in Andy's heart, Woody plots against Buzz. But when circumstances separate Buzz and Woody from their owner, the duo eventually learns to put aside their differences.\""
            ]
          },
          "metadata": {
            "tags": []
          },
          "execution_count": 7
        }
      ]
    },
    {
      "cell_type": "markdown",
      "metadata": {
        "id": "9W0y0tlHwBKM",
        "colab_type": "text"
      },
      "source": [
        "We can see that we'll have many problems : \n",
        "- hashtags and urls for the twitter database; \n",
        "- some html code for the economics news database\n",
        "\n",
        "Let's do our preprocessing : "
      ]
    },
    {
      "cell_type": "markdown",
      "metadata": {
        "id": "gOY4EsUJoQsL",
        "colab_type": "text"
      },
      "source": [
        "## 1. Write a function that cleans a given text, i.e :"
      ]
    },
    {
      "cell_type": "code",
      "metadata": {
        "id": "gwxQYNbT201b",
        "colab_type": "code",
        "outputId": "a65f4c68-7c65-4f0f-aa8f-515656295b80",
        "colab": {
          "base_uri": "https://localhost:8080/",
          "height": 52
        }
      },
      "source": [
        "# Usage of Phrases and Phraser from gensim\n",
        "import nltk\n",
        "from gensim.models.phrases import Phrases, Phraser\n",
        "from nltk.tokenize import TreebankWordTokenizer, TweetTokenizer\n",
        "nltk.download('punkt')\n",
        "sent_detector = nltk.data.load('tokenizers/punkt/english.pickle')\n"
      ],
      "execution_count": 0,
      "outputs": [
        {
          "output_type": "stream",
          "text": [
            "[nltk_data] Downloading package punkt to /root/nltk_data...\n",
            "[nltk_data]   Unzipping tokenizers/punkt.zip.\n"
          ],
          "name": "stdout"
        }
      ]
    },
    {
      "cell_type": "code",
      "metadata": {
        "id": "JknU3CgQ-37L",
        "colab_type": "code",
        "colab": {}
      },
      "source": [
        "def remove_hashtags(tokens):\n",
        "  tokens = map(lambda x: x.replace('#', ''), tokens)\n",
        "  return list(tokens)\n",
        "\n",
        "def remove_url(tokens):\n",
        "  tokens = filter(lambda x: \"http\" not in x, tokens)\n",
        "  return list(tokens)\n",
        "\n",
        "def remove_html(tokens):\n",
        "  tokens = filter(lambda x: x[0]+x[-1] != '<>', tokens)\n",
        "  return list(tokens)"
      ],
      "execution_count": 0,
      "outputs": []
    },
    {
      "cell_type": "code",
      "metadata": {
        "id": "jz3OgcVd_aB-",
        "colab_type": "code",
        "outputId": "eb6006c9-7e56-492f-c537-9052ea880e3c",
        "colab": {
          "base_uri": "https://localhost:8080/",
          "height": 312
        }
      },
      "source": [
        "remove_hashtags(TweetTokenizer().tokenize(df_pol.text.iloc[0]))"
      ],
      "execution_count": 0,
      "outputs": [
        {
          "output_type": "execute_result",
          "data": {
            "text/plain": [
              "['RT',\n",
              " '@nowthisnews',\n",
              " ':',\n",
              " 'Rep',\n",
              " '.',\n",
              " 'Trey',\n",
              " 'Radel',\n",
              " '(',\n",
              " 'R',\n",
              " '-',\n",
              " 'FL',\n",
              " ')',\n",
              " 'slams',\n",
              " 'Obamacare',\n",
              " '.',\n",
              " 'politics',\n",
              " 'https://t.co/zvywMG8yIH']"
            ]
          },
          "metadata": {
            "tags": []
          },
          "execution_count": 11
        }
      ]
    },
    {
      "cell_type": "code",
      "metadata": {
        "id": "JtTEg-ym_ds1",
        "colab_type": "code",
        "outputId": "fe4bf1c6-d3de-4655-c501-e9b201950fac",
        "colab": {
          "base_uri": "https://localhost:8080/",
          "height": 295
        }
      },
      "source": [
        "remove_url(TweetTokenizer().tokenize(df_pol.text.iloc[0]))"
      ],
      "execution_count": 0,
      "outputs": [
        {
          "output_type": "execute_result",
          "data": {
            "text/plain": [
              "['RT',\n",
              " '@nowthisnews',\n",
              " ':',\n",
              " 'Rep',\n",
              " '.',\n",
              " 'Trey',\n",
              " 'Radel',\n",
              " '(',\n",
              " 'R',\n",
              " '-',\n",
              " '#FL',\n",
              " ')',\n",
              " 'slams',\n",
              " '#Obamacare',\n",
              " '.',\n",
              " '#politics']"
            ]
          },
          "metadata": {
            "tags": []
          },
          "execution_count": 14
        }
      ]
    },
    {
      "cell_type": "code",
      "metadata": {
        "id": "2Hp13wqfBMzs",
        "colab_type": "code",
        "outputId": "c18f177d-13d5-4994-eda1-6e40cfc82c91",
        "colab": {
          "base_uri": "https://localhost:8080/",
          "height": 1000
        }
      },
      "source": [
        "remove_html(TweetTokenizer().tokenize(df_eco.text.iloc[0]))"
      ],
      "execution_count": 0,
      "outputs": [
        {
          "output_type": "execute_result",
          "data": {
            "text/plain": [
              "['NEW',\n",
              " 'YORK',\n",
              " '-',\n",
              " '-',\n",
              " 'Yields',\n",
              " 'on',\n",
              " 'most',\n",
              " 'certificates',\n",
              " 'of',\n",
              " 'deposit',\n",
              " 'offered',\n",
              " 'by',\n",
              " 'major',\n",
              " 'banks',\n",
              " 'dropped',\n",
              " 'more',\n",
              " 'than',\n",
              " 'a',\n",
              " 'tenth',\n",
              " 'of',\n",
              " 'a',\n",
              " 'percentage',\n",
              " 'point',\n",
              " 'in',\n",
              " 'the',\n",
              " 'latest',\n",
              " 'week',\n",
              " ',',\n",
              " 'reflecting',\n",
              " 'the',\n",
              " 'overall',\n",
              " 'decline',\n",
              " 'in',\n",
              " 'short-term',\n",
              " 'interest',\n",
              " 'rates',\n",
              " '.',\n",
              " 'On',\n",
              " 'small-denomination',\n",
              " ',',\n",
              " 'or',\n",
              " '\"',\n",
              " 'consumer',\n",
              " ',',\n",
              " '\"',\n",
              " 'CDs',\n",
              " 'sold',\n",
              " 'directly',\n",
              " 'by',\n",
              " 'banks',\n",
              " ',',\n",
              " 'the',\n",
              " 'average',\n",
              " 'yield',\n",
              " 'on',\n",
              " 'six-month',\n",
              " 'deposits',\n",
              " 'fell',\n",
              " 'to',\n",
              " '5.49',\n",
              " '%',\n",
              " 'from',\n",
              " '5.62',\n",
              " '%',\n",
              " 'in',\n",
              " 'the',\n",
              " 'week',\n",
              " 'ended',\n",
              " 'yesterday',\n",
              " ',',\n",
              " 'according',\n",
              " 'to',\n",
              " 'an',\n",
              " '18',\n",
              " '-',\n",
              " 'bank',\n",
              " 'survey',\n",
              " 'by',\n",
              " 'Banxquote',\n",
              " 'Money',\n",
              " 'Markets',\n",
              " ',',\n",
              " 'a',\n",
              " 'Wilmington',\n",
              " ',',\n",
              " 'Del',\n",
              " '.',\n",
              " ',',\n",
              " 'information',\n",
              " 'service',\n",
              " '.',\n",
              " 'On',\n",
              " 'three-month',\n",
              " '\"',\n",
              " 'consumer',\n",
              " '\"',\n",
              " 'deposits',\n",
              " ',',\n",
              " 'the',\n",
              " 'average',\n",
              " 'yield',\n",
              " 'sank',\n",
              " 'to',\n",
              " '5.29',\n",
              " '%',\n",
              " 'from',\n",
              " '5.42',\n",
              " '%',\n",
              " 'the',\n",
              " 'week',\n",
              " 'before',\n",
              " ',',\n",
              " 'according',\n",
              " 'to',\n",
              " 'Banxquote',\n",
              " '.',\n",
              " 'Two',\n",
              " 'banks',\n",
              " 'in',\n",
              " 'the',\n",
              " 'Banxquote',\n",
              " 'survey',\n",
              " ',',\n",
              " 'Citibank',\n",
              " 'in',\n",
              " 'New',\n",
              " 'York',\n",
              " 'and',\n",
              " 'CoreStates',\n",
              " 'in',\n",
              " 'Pennsylvania',\n",
              " ',',\n",
              " 'are',\n",
              " 'paying',\n",
              " 'less',\n",
              " 'than',\n",
              " '5',\n",
              " '%',\n",
              " 'on',\n",
              " 'threemonth',\n",
              " 'small-denomination',\n",
              " 'CDs',\n",
              " '.',\n",
              " 'Declines',\n",
              " 'were',\n",
              " 'somewhat',\n",
              " 'smaller',\n",
              " 'on',\n",
              " 'five-year',\n",
              " 'consumer',\n",
              " 'CDs',\n",
              " ',',\n",
              " 'which',\n",
              " 'eased',\n",
              " 'to',\n",
              " '7.37',\n",
              " '%',\n",
              " 'from',\n",
              " '7.45',\n",
              " '%',\n",
              " ',',\n",
              " 'Banxquote',\n",
              " 'said',\n",
              " '.',\n",
              " 'Yields',\n",
              " 'on',\n",
              " 'three-month',\n",
              " 'and',\n",
              " 'six-month',\n",
              " 'Treasury',\n",
              " 'bills',\n",
              " 'sold',\n",
              " 'at',\n",
              " \"Monday's\",\n",
              " 'auction',\n",
              " 'plummeted',\n",
              " 'more',\n",
              " 'than',\n",
              " 'a',\n",
              " 'fifth',\n",
              " 'of',\n",
              " 'a',\n",
              " 'percentage',\n",
              " 'point',\n",
              " 'from',\n",
              " 'the',\n",
              " 'previous',\n",
              " 'week',\n",
              " ',',\n",
              " 'to',\n",
              " '5.46',\n",
              " '%',\n",
              " 'and',\n",
              " '5.63',\n",
              " '%',\n",
              " ',',\n",
              " 'respectively',\n",
              " '.']"
            ]
          },
          "metadata": {
            "tags": []
          },
          "execution_count": 16
        }
      ]
    },
    {
      "cell_type": "markdown",
      "metadata": {
        "id": "Fv2QBB9mxXMc",
        "colab_type": "text"
      },
      "source": [
        "Now let's implement our cleaning function:\n"
      ]
    },
    {
      "cell_type": "code",
      "metadata": {
        "id": "1_a5IX1b_0Zk",
        "colab_type": "code",
        "colab": {}
      },
      "source": [
        "from tqdm import tqdm\n",
        "def tokenize_url_hashtags(corpus, tweets=False):\n",
        "  if tweets:\n",
        "    tokenizer = TweetTokenizer()\n",
        "  else:\n",
        "    tokenizer = TreebankWordTokenizer()  \n",
        "    # Life hack : treebank word tokenizer won't keep html code in one token.\n",
        "    # To preprocess economics news corpus, use tweettokenizer. \n",
        "  tokenized_sentences = []\n",
        "  for sample in tqdm(corpus):\n",
        "    # separating sentences\n",
        "    for sentence in sent_detector.tokenize(sample):\n",
        "      tokens = tokenizer.tokenize(sentence)\n",
        "      tokens = remove_url(tokens)\n",
        "      tokens = remove_html(tokens)\n",
        "      tokens = remove_hashtags(tokens)\n",
        "      tokens = list(map(lambda x: x.lower(), tokens))\n",
        "      tokenized_sentences.append(tokens)\n",
        "  return tokenized_sentences"
      ],
      "execution_count": 0,
      "outputs": []
    },
    {
      "cell_type": "code",
      "metadata": {
        "id": "kA4pkySEAnZO",
        "colab_type": "code",
        "outputId": "64f43548-2c76-4a5d-94ae-5418ab02d891",
        "colab": {
          "base_uri": "https://localhost:8080/",
          "height": 69
        }
      },
      "source": [
        "cleaned_pol = tokenize_url_hashtags(df_pol.text.array, tweets=True)\n",
        "cleaned_eco = tokenize_url_hashtags(df_eco.text.array, tweets=True)\n",
        "cleaned_movie = tokenize_url_hashtags(df_movies.overview.dropna().array)"
      ],
      "execution_count": 0,
      "outputs": [
        {
          "output_type": "stream",
          "text": [
            "100%|██████████| 5000/5000 [00:01<00:00, 3704.14it/s]\n",
            "100%|██████████| 8000/8000 [00:12<00:00, 652.81it/s]\n",
            "100%|██████████| 44512/44512 [00:25<00:00, 1735.57it/s]\n"
          ],
          "name": "stderr"
        }
      ]
    },
    {
      "cell_type": "markdown",
      "metadata": {
        "id": "Iflacx8Ixtp8",
        "colab_type": "text"
      },
      "source": [
        "Now we can design our function for multi-word expressions. \n",
        "We will have to set a threshold on ther bigrams scores, depending on the corpus. \n",
        "\n",
        "Then, we'll first use a function that displays some expression examples depending on a threshold. "
      ]
    },
    {
      "cell_type": "code",
      "metadata": {
        "id": "nrV0PpXc-pRN",
        "colab_type": "code",
        "colab": {}
      },
      "source": [
        "from gensim.models.phrases import Phrases, Phraser\n",
        "\n",
        "def show_phrases(tokenized_sentences, threshold=10, shown=15):\n",
        "  # Training the multi-word expression detector\n",
        "  phrases = Phrases(tokenized_sentences, threshold=threshold)\n",
        "  i = 0\n",
        "  for phrase, score in phrases.export_phrases(tokenized_sentences):\n",
        "    if i>shown:\n",
        "      break\n",
        "    else:\n",
        "      print(\"Expression : {0}, score = {1}\".format(phrase, score))\n",
        "    i=i+1"
      ],
      "execution_count": 0,
      "outputs": []
    },
    {
      "cell_type": "code",
      "metadata": {
        "id": "xtmO9lpsZnmA",
        "colab_type": "code",
        "outputId": "b25d4bf2-e6f5-4418-cced-03e111b33e83",
        "colab": {
          "base_uri": "https://localhost:8080/",
          "height": 295
        }
      },
      "source": [
        "show_phrases(cleaned_eco)"
      ],
      "execution_count": 0,
      "outputs": [
        {
          "output_type": "stream",
          "text": [
            "Expression : b'new york', score = 99.89547622832274\n",
            "Expression : b'- -', score = 14.435367748656112\n",
            "Expression : b'major banks', score = 11.522185435944975\n",
            "Expression : b'more than', score = 41.41524662718569\n",
            "Expression : b'percentage point', score = 232.52661930961384\n",
            "Expression : b'short-term interest', score = 79.50146442118609\n",
            "Expression : b'average yield', score = 14.50519921354952\n",
            "Expression : b'week ended', score = 49.954670839989596\n",
            "Expression : b'according to', score = 13.34532284748813\n",
            "Expression : b'average yield', score = 14.50519921354952\n",
            "Expression : b'according to', score = 13.34532284748813\n",
            "Expression : b'new york', score = 99.89547622832274\n",
            "Expression : b'less than', score = 48.023977151550724\n",
            "Expression : b'5 %', score = 19.991505101151816\n",
            "Expression : b'treasury bills', score = 110.36773215030524\n",
            "Expression : b'more than', score = 41.41524662718569\n"
          ],
          "name": "stdout"
        }
      ]
    },
    {
      "cell_type": "markdown",
      "metadata": {
        "id": "9UXjXpEBavDc",
        "colab_type": "text"
      },
      "source": [
        " Threshold should go up to 90 at least. \n",
        " "
      ]
    },
    {
      "cell_type": "code",
      "metadata": {
        "id": "rU0PRO15ay0E",
        "colab_type": "code",
        "outputId": "104dd0d2-448e-4024-af0f-2dbbdf583dff",
        "colab": {
          "base_uri": "https://localhost:8080/",
          "height": 295
        }
      },
      "source": [
        "show_phrases(cleaned_eco, threshold=90)"
      ],
      "execution_count": 0,
      "outputs": [
        {
          "output_type": "stream",
          "text": [
            "Expression : b'new york', score = 99.89547622832274\n",
            "Expression : b'percentage point', score = 232.52661930961384\n",
            "Expression : b'interest rates', score = 109.87933447661607\n",
            "Expression : b'new york', score = 99.89547622832274\n",
            "Expression : b'treasury bills', score = 110.36773215030524\n",
            "Expression : b'percentage point', score = 232.52661930961384\n",
            "Expression : b'wall street', score = 525.7674221029291\n",
            "Expression : b'bush administration', score = 93.9584803938366\n",
            "Expression : b'new york', score = 99.89547622832274\n",
            "Expression : b'new york', score = 99.89547622832274\n",
            "Expression : b'associated press', score = 1338.8109020431236\n",
            "Expression : b'advocacy group', score = 166.3425341745531\n",
            "Expression : b\"can't afford\", score = 299.0745598487534\n",
            "Expression : b'human services', score = 100.62554996024384\n",
            "Expression : b'washington post', score = 115.75734703993957\n",
            "Expression : b'white house', score = 358.0433008802406\n"
          ],
          "name": "stdout"
        }
      ]
    },
    {
      "cell_type": "markdown",
      "metadata": {
        "id": "XfYcXCwsya2I",
        "colab_type": "text"
      },
      "source": [
        "This is much more satisfying. \n",
        "\n",
        "\n",
        "Let's see on political tweets:\n"
      ]
    },
    {
      "cell_type": "code",
      "metadata": {
        "id": "t3QHTXfEG5LQ",
        "colab_type": "code",
        "outputId": "ee0af1ca-473b-4c9a-9285-d346732926b7",
        "colab": {
          "base_uri": "https://localhost:8080/",
          "height": 295
        }
      },
      "source": [
        "show_phrases(cleaned_pol, threshold=10)"
      ],
      "execution_count": 0,
      "outputs": [
        {
          "output_type": "stream",
          "text": [
            "Expression : b'rep .', score = 10.77540518780411\n",
            "Expression : b'( r', score = 27.686724230976793\n",
            "Expression : b'please join', score = 57.774211711711715\n",
            "Expression : b'men and', score = 14.145210578314913\n",
            "Expression : b'step toward', score = 117.39931350114416\n",
            "Expression : b'\\xc2\\x89 \\xc3\\xbb\\xc2\\xaas', score = 52.85778351344543\n",
            "Expression : b'your favorite', score = 156.3264542936288\n",
            "Expression : b'my facebook', score = 32.60988399809312\n",
            "Expression : b'cover photo', score = 590.6652960526316\n",
            "Expression : b'state senator', score = 24.430238095238096\n",
            "Expression : b'\\xc2\\x89 \\xc3\\xbb\\xc2\\xaas', score = 52.85778351344543\n",
            "Expression : b'ago today', score = 35.804142469031184\n",
            "Expression : b'an important', score = 30.38586827765932\n",
            "Expression : b'american people', score = 57.276482518653594\n",
            "Expression : b'are concerned', score = 27.5780788044939\n",
            "Expression : b'health care', score = 163.97727904391328\n"
          ],
          "name": "stdout"
        }
      ]
    },
    {
      "cell_type": "markdown",
      "metadata": {
        "id": "E2iR6WTRykOI",
        "colab_type": "text"
      },
      "source": [
        "This is not satisfying at all, we'll set a very high threshold : \n"
      ]
    },
    {
      "cell_type": "code",
      "metadata": {
        "id": "OA_jcR5GHyKk",
        "colab_type": "code",
        "outputId": "dd01f5ec-9676-4b1c-f21e-f8bcc8f8b12a",
        "colab": {
          "base_uri": "https://localhost:8080/",
          "height": 295
        }
      },
      "source": [
        "show_phrases(cleaned_pol, threshold=1000)"
      ],
      "execution_count": 0,
      "outputs": [
        {
          "output_type": "stream",
          "text": [
            "Expression : b'art competition', score = 1221.5119047619048\n",
            "Expression : b'sexual assault', score = 2414.282352941176\n",
            "Expression : b'north dakota', score = 1164.7853457172343\n",
            "Expression : b'tulsi gabbard', score = 2931.6285714285714\n",
            "Expression : b'supreme court', score = 2039.0898251192368\n",
            "Expression : b'supreme court', score = 2039.0898251192368\n",
            "Expression : b'art competition', score = 1221.5119047619048\n",
            "Expression : b'wall street', score = 1320.5534105534105\n",
            "Expression : b'supreme court', score = 2039.0898251192368\n",
            "Expression : b'supreme court', score = 2039.0898251192368\n",
            "Expression : b'student loan', score = 1081.3384074941453\n",
            "Expression : b'martin luther', score = 4275.291666666667\n",
            "Expression : b'student loan', score = 1081.3384074941453\n",
            "Expression : b'sexual assault', score = 2414.282352941176\n",
            "Expression : b'common sense', score = 1436.4980000000003\n",
            "Expression : b'art competition', score = 1221.5119047619048\n"
          ],
          "name": "stdout"
        }
      ]
    },
    {
      "cell_type": "markdown",
      "metadata": {
        "id": "HVR0ItXoyw_U",
        "colab_type": "text"
      },
      "source": [
        "On the movies database, we'll use the same threshold (after printing for t=10)"
      ]
    },
    {
      "cell_type": "code",
      "metadata": {
        "id": "nsoZNsF-IO8F",
        "colab_type": "code",
        "outputId": "976f0bcc-8269-45dc-f550-96830f513b96",
        "colab": {
          "base_uri": "https://localhost:8080/",
          "height": 295
        }
      },
      "source": [
        "show_phrases(cleaned_movie, threshold=1000)"
      ],
      "execution_count": 0,
      "outputs": [
        {
          "output_type": "stream",
          "text": [
            "Expression : b'los angeles', score = 1804.703180684248\n",
            "Expression : b'ugly duckling', score = 1265.1690140845071\n",
            "Expression : b'huckleberry finn', score = 6048.956228956229\n",
            "Expression : b'van damme', score = 2040.1317283670223\n",
            "Expression : b'van damme', score = 2040.1317283670223\n",
            "Expression : b'van helsing', score = 2312.1492921492923\n",
            "Expression : b'las vegas', score = 5619.055493620712\n",
            "Expression : b'las vegas', score = 5619.055493620712\n",
            "Expression : b'jane austen', score = 2041.5227272727273\n",
            "Expression : b'conscientious objector', score = 12475.97222222222\n",
            "Expression : b'susan sarandon', score = 1421.3132911392404\n",
            "Expression : b'beverly hills', score = 5375.285904255319\n",
            "Expression : b'united states', score = 1700.3292713799135\n",
            "Expression : b'van sant', score = 1300.5839768339767\n",
            "Expression : b'multi-million dollar', score = 6110.680272108843\n",
            "Expression : b'los angeles', score = 1804.703180684248\n"
          ],
          "name": "stdout"
        }
      ]
    },
    {
      "cell_type": "markdown",
      "metadata": {
        "id": "1Kn5wFGUn7Ma",
        "colab_type": "text"
      },
      "source": [
        "## 2. Build the 3 cleaned corpuses with your cleaning function. (1 corpus = 1 list of cleaned and tokenized sentences)."
      ]
    },
    {
      "cell_type": "code",
      "metadata": {
        "id": "Kve70eOnZlLU",
        "colab_type": "code",
        "colab": {}
      },
      "source": [
        "def clean_corpus(corpus, threshold=50, tweets=False):\n",
        "  tokenized_sentences = tokenize_url_hashtags(corpus, tweets=tweets)\n",
        "  phrases = Phrases(tokenized_sentences, threshold=threshold)\n",
        "\n",
        "  # This lets you use it with less RAM and faster processing.\n",
        "  # But it will no longer be possible to update the detector with new training \n",
        "  # samples\n",
        "  phraser = Phraser(phrases)\n",
        "\n",
        "  # Merging multi-word expressions in the tokenization\n",
        "  clean_corpus = []\n",
        "  for sentence in tokenized_sentences:\n",
        "    clean_corpus.append(phraser[sentence])\n",
        "  \n",
        "  return clean_corpus\n",
        "  "
      ],
      "execution_count": 0,
      "outputs": []
    },
    {
      "cell_type": "code",
      "metadata": {
        "id": "xzECy66dIwIu",
        "colab_type": "code",
        "outputId": "fbc64914-edc8-41d7-fe91-faaa7cef4e12",
        "colab": {
          "base_uri": "https://localhost:8080/",
          "height": 69
        }
      },
      "source": [
        "cleaned_pol = clean_corpus(df_pol.text.array, threshold = 1000, tweets=True)\n",
        "cleaned_eco = clean_corpus(df_eco.text.array,  threshold = 100, tweets=True)\n",
        "cleaned_movie = clean_corpus(df_movies.overview.dropna().array,  threshold = 1000)"
      ],
      "execution_count": 0,
      "outputs": [
        {
          "output_type": "stream",
          "text": [
            "100%|██████████| 5000/5000 [00:01<00:00, 3845.59it/s]\n",
            "100%|██████████| 8000/8000 [00:12<00:00, 653.94it/s]\n",
            "100%|██████████| 44512/44512 [00:25<00:00, 1735.55it/s]\n"
          ],
          "name": "stderr"
        }
      ]
    },
    {
      "cell_type": "code",
      "metadata": {
        "id": "hkEoG4kZndYi",
        "colab_type": "code",
        "outputId": "1833d286-9719-4b08-a942-402f93bd1d09",
        "colab": {
          "base_uri": "https://localhost:8080/",
          "height": 89
        }
      },
      "source": [
        "print(cleaned_pol[2])\n",
        "print(cleaned_eco[2])\n",
        "print(cleaned_movie[2])"
      ],
      "execution_count": 0,
      "outputs": [
        {
          "output_type": "stream",
          "text": [
            "['video', '-', 'obamacare', ':', 'full', 'of', 'higher', 'costs', 'and', 'broken', 'promises', ':']\n",
            "['the', 'wall_street', 'journal', 'online', 'the', 'morning', 'brief', ',', 'a', 'look', 'at', 'the', \"day's\", 'biggest', 'news', ',', 'is', 'emailed', 'to', 'subscribers', 'by', '7', 'a', '.', 'm', '.', 'every', 'business', 'day', '.']\n",
            "['but', 'when', 'circumstances', 'separate', 'buzz', 'and', 'woody', 'from', 'their', 'owner', ',', 'the', 'duo', 'eventually', 'learns', 'to', 'put', 'aside', 'their', 'differences', '.']\n"
          ],
          "name": "stdout"
        }
      ]
    },
    {
      "cell_type": "markdown",
      "metadata": {
        "id": "JSRroc58qE4t",
        "colab_type": "text"
      },
      "source": [
        "#### Some highlights from the multi-word expression detectors:\n",
        "- Please_join is assumed to be a multiword expression in the tweet corpus\n",
        "- New_york has been correctly merged\n",
        "- led_by has been detected as a multiword expression in the movie review corpus\n"
      ]
    },
    {
      "cell_type": "markdown",
      "metadata": {
        "id": "XF0wsQ_DqZqs",
        "colab_type": "text"
      },
      "source": [
        "## 3. Train a Word2Vec model with Gensim for the 3 corpuses, and explore the most similar words to \"man\", \"woman\", \"politician', etc. for the corpuses."
      ]
    },
    {
      "cell_type": "code",
      "metadata": {
        "id": "y75zfUnCpqW9",
        "colab_type": "code",
        "outputId": "7bb7d4e4-03a9-497c-af99-e13f4da89f76",
        "colab": {
          "base_uri": "https://localhost:8080/",
          "height": 86
        }
      },
      "source": [
        "from gensim.models import Word2Vec\n",
        "from multiprocessing import cpu_count\n",
        "\n",
        "cpu = cpu_count()\n",
        "print('The virtual instance has {} cpus, that will be used to train the word2vec model'.format(cpu))\n",
        "\n",
        "# We will just get the \"WordVectors\" parameter from the trained Word2Vec model.\n",
        "# Otherwise, we could continue training with some more exemples that could be\n",
        "# fed on the fly to the model.\n",
        "print(\"Training the political W2V ...\")\n",
        "pol = Word2Vec(cleaned_pol, size=100, window=5, min_count=3, workers=cpu)\n",
        "pol.train(cleaned_pol, total_examples=len(cleaned_pol), epochs=10)\n",
        "pol_wv = pol.wv\n",
        "print(\"Training the economics W2V ...\")\n",
        "eco = Word2Vec(cleaned_eco, size=100, window=5, min_count=3, workers=cpu)\n",
        "eco.train(cleaned_eco, total_examples=len(cleaned_eco), epochs=10)\n",
        "eco_wv = eco.wv\n",
        "print(\"Training the movies' W2V ...\")\n",
        "mo = Word2Vec(cleaned_movie, size=100, window=5, min_count=3, workers=cpu)\n",
        "mo.train(cleaned_movie, total_examples=len(cleaned_movie), epochs=10)\n",
        "mo_wv = mo.wv\n"
      ],
      "execution_count": 0,
      "outputs": [
        {
          "output_type": "stream",
          "text": [
            "The virtual instance has 2 cpus, that will be used to train the word2vec model\n",
            "Training the political W2V ...\n",
            "Training the economics W2V ...\n",
            "Training the movies' W2V ...\n"
          ],
          "name": "stdout"
        }
      ]
    },
    {
      "cell_type": "code",
      "metadata": {
        "id": "8Mm25fndnlnn",
        "colab_type": "code",
        "colab": {}
      },
      "source": [
        "domains = ['politics', 'economics', 'movies'] \n",
        "wvs = [pol_wv , eco_wv, mo_wv]\n",
        "def closest_to(w, n=10):\n",
        "  for wv, domain in zip(wvs, domains):\n",
        "    if w in wv:\n",
        "      closest_ws =[w[0] for w in wv.most_similar(w, topn=n)]\n",
        "      print(\"According to {}, the closest {}, words to \\\"{}\\\" \" \n",
        "      \"are: \\n {}\".format(domain, n, w, '\"'+'\",\\n then \"'.join(closest_ws)+'\"'))\n",
        "    else:\n",
        "      print(w, \" could not be found in the {} vocabulary\".format(domain))"
      ],
      "execution_count": 0,
      "outputs": []
    },
    {
      "cell_type": "code",
      "metadata": {
        "id": "OEzcs9t-tayS",
        "colab_type": "code",
        "outputId": "2cb3f98b-1996-4e39-e8d8-12c084cdd8a4",
        "colab": {
          "base_uri": "https://localhost:8080/",
          "height": 1000
        }
      },
      "source": [
        "closest_to('man')\n",
        "print('========================================================================')\n",
        "closest_to('woman')\n",
        "print('========================================================================')\n",
        "closest_to('politicians')\n",
        "print('========================================================================')\n",
        "closest_to('scenario')\n",
        "print('========================================================================')\n",
        "closest_to('join')"
      ],
      "execution_count": 0,
      "outputs": [
        {
          "output_type": "stream",
          "text": [
            "According to politics, the closest 10, words to \"man\" are: \n",
            " \"enormous\",\n",
            " then \"died\",\n",
            " then \"built\",\n",
            " then \"created\",\n",
            " then \"lytton\",\n",
            " then \"ignored\",\n",
            " then \"huskies\",\n",
            " then \"monument\",\n",
            " then \"hit\",\n",
            " then \"fan\"\n",
            "According to economics, the closest 10, words to \"man\" are: \n",
            " \"woman\",\n",
            " then \"politician\",\n",
            " then \"congressman\",\n",
            " then \"father\",\n",
            " then \"lady\",\n",
            " then \"lawyer\",\n",
            " then \"candidate\",\n",
            " then \"son\",\n",
            " then \"lobbyist\",\n",
            " then \"mother\"\n",
            "According to movies, the closest 10, words to \"man\" are: \n",
            " \"woman\",\n",
            " then \"person\",\n",
            " then \"lady\",\n",
            " then \"boy\",\n",
            " then \"businessman\",\n",
            " then \"men\",\n",
            " then \"monk\",\n",
            " then \"guy\",\n",
            " then \"doctor\",\n",
            " then \"stranger\"\n",
            "========================================================================\n",
            "According to politics, the closest 10, words to \"woman\" are: \n",
            " \"remains\",\n",
            " then \"played\",\n",
            " then \"successful\",\n",
            " then \"cents\",\n",
            " then \"represents\",\n",
            " then \"generation\",\n",
            " then \"single\",\n",
            " then \"resiliency\",\n",
            " then \"compensation\",\n",
            " then \"lived\"\n",
            "According to economics, the closest 10, words to \"woman\" are: \n",
            " \"man\",\n",
            " then \"politician\",\n",
            " then \"lobbyist\",\n",
            " then \"toni\",\n",
            " then \"businessman\",\n",
            " then \"father\",\n",
            " then \"congressman\",\n",
            " then \"colleague\",\n",
            " then \"novel\",\n",
            " then \"mate\"\n",
            "According to movies, the closest 10, words to \"woman\" are: \n",
            " \"girl\",\n",
            " then \"man\",\n",
            " then \"prostitute\",\n",
            " then \"lady\",\n",
            " then \"widow\",\n",
            " then \"stranger\",\n",
            " then \"person\",\n",
            " then \"doctor\",\n",
            " then \"couple\",\n",
            " then \"heiress\"\n",
            "========================================================================\n",
            "According to politics, the closest 10, words to \"politicians\" are: \n",
            " \"often\",\n",
            " then \"hobbylobby\",\n",
            " then \"sums\",\n",
            " then \"far\",\n",
            " then \"earn\",\n",
            " then \"infected\",\n",
            " then \"yet\",\n",
            " then \"ordered\",\n",
            " then \"consequences\",\n",
            " then \"complex\"\n",
            "According to economics, the closest 10, words to \"politicians\" are: \n",
            " \"liberals\",\n",
            " then \"conservatives\",\n",
            " then \"entrepreneurs\",\n",
            " then \"republicans\",\n",
            " then \"critics\",\n",
            " then \"themselves\",\n",
            " then \"activists\",\n",
            " then \"commentators\",\n",
            " then \"folks\",\n",
            " then \"democrats\"\n",
            "According to movies, the closest 10, words to \"politicians\" are: \n",
            " \"officials\",\n",
            " then \"journalists\",\n",
            " then \"law_enforcement\",\n",
            " then \"governments\",\n",
            " then \"agencies\",\n",
            " then \"militia\",\n",
            " then \"corrupted\",\n",
            " then \"merchants\",\n",
            " then \"activists\",\n",
            " then \"immigration\"\n",
            "========================================================================\n",
            "scenario  could not be found in the politics vocabulary\n",
            "According to economics, the closest 10, words to \"scenario\" are: \n",
            " \"approach\",\n",
            " then \"phenomenon\",\n",
            " then \"interpretation\",\n",
            " then \"explanation\",\n",
            " then \"notion\",\n",
            " then \"metaphor\",\n",
            " then \"view\",\n",
            " then \"strategy\",\n",
            " then \"theory\",\n",
            " then \"situation\"\n",
            "According to movies, the closest 10, words to \"scenario\" are: \n",
            " \"revelation\",\n",
            " then \"phenomenon\",\n",
            " then \"shameless\",\n",
            " then \"mixture\",\n",
            " then \"resolution\",\n",
            " then \"strain\",\n",
            " then \"military-industrial\",\n",
            " then \"significance\",\n",
            " then \"liaisons\",\n",
            " then \"awareness\"\n",
            "========================================================================\n",
            "According to politics, the closest 10, words to \"join\" are: \n",
            " \"hosting\",\n",
            " then \"me\",\n",
            " then \"y'all\",\n",
            " then \"constituents\",\n",
            " then \"fwd\",\n",
            " then \"i'm\",\n",
            " then \"hope\",\n",
            " then \"welcome\",\n",
            " then \"joining\",\n",
            " then \"speaking\"\n",
            "According to economics, the closest 10, words to \"join\" are: \n",
            " \"participate\",\n",
            " then \"commit\",\n",
            " then \"persuade\",\n",
            " then \"replace\",\n",
            " then \"retain\",\n",
            " then \"win\",\n",
            " then \"submit\",\n",
            " then \"treat\",\n",
            " then \"launch\",\n",
            " then \"announce\"\n",
            "According to movies, the closest 10, words to \"join\" are: \n",
            " \"accompany\",\n",
            " then \"send\",\n",
            " then \"joins\",\n",
            " then \"perform\",\n",
            " then \"hire\",\n",
            " then \"attend\",\n",
            " then \"teach\",\n",
            " then \"replace\",\n",
            " then \"rejoin\",\n",
            " then \"infiltrate\"\n"
          ],
          "name": "stdout"
        },
        {
          "output_type": "stream",
          "text": [
            "/usr/local/lib/python3.6/dist-packages/gensim/matutils.py:737: FutureWarning: Conversion of the second argument of issubdtype from `int` to `np.signedinteger` is deprecated. In future, it will be treated as `np.int64 == np.dtype(int).type`.\n",
            "  if np.issubdtype(vec.dtype, np.int):\n"
          ],
          "name": "stderr"
        }
      ]
    },
    {
      "cell_type": "markdown",
      "metadata": {
        "id": "wxZzaVps2lpI",
        "colab_type": "text"
      },
      "source": [
        "The twitter database doesn't seem to give coherent similarities. \n",
        "\n",
        "The economics and movies databases have interesting biaises, a rich embeddings. "
      ]
    },
    {
      "cell_type": "markdown",
      "metadata": {
        "id": "3TPoTKJHy-3G",
        "colab_type": "text"
      },
      "source": [
        "## 4. Export the embeddings as two .tsv files to use projector.tensorflow.org interactive visualisation.\n",
        "\n"
      ]
    },
    {
      "cell_type": "code",
      "metadata": {
        "id": "d7-e2mLytcpi",
        "colab_type": "code",
        "colab": {}
      },
      "source": [
        "import os \n",
        "\n",
        "def save_embeddings(model, name):\n",
        "    vocab_keys = list(model.wv.vocab.keys())\n",
        "    vocab = {vocab_keys[i]: i for i in range(len(vocab_keys))}\n",
        "    inv_vocab = {v: k for k, v in vocab.items()}\n",
        "    METADATA_PATH = os.path.join('.', name+\"_metadata.tsv\")\n",
        "    VECTOR_PATHS = os.path.join('.', name+\"_embeddings.tsv\")\n",
        "    with open(METADATA_PATH, \"w\", encoding=\"utf-8\") as metadata:\n",
        "        with open(VECTOR_PATHS, \"w\", encoding=\"utf-8\") as vectors:\n",
        "            metadata.write(\"WORD\\tINDEX\\n\")\n",
        "            for i in tqdm(range(len(vocab))):\n",
        "                try:\n",
        "                    vector = model.wv[inv_vocab[i]]\n",
        "                    metadata.write(\n",
        "                        str(inv_vocab[i]) + \"\\t\" + str(i) + \"\\n\"\n",
        "                    )\n",
        "                    n = len(vector)\n",
        "                    for j in range(n):\n",
        "                        if j == (n - 1):\n",
        "                            vectors.write(str(vector[j]) + \"\\n\")\n",
        "                        else:\n",
        "                            vectors.write(str(vector[j]) + '\\t')\n",
        "                except:\n",
        "                    print(\n",
        "                        \"{0} not in vocabulary. Passing. \\n\".format(\n",
        "                            inv_vocab[i]\n",
        "                        )\n",
        "                    )\n",
        "                    pass"
      ],
      "execution_count": 0,
      "outputs": []
    },
    {
      "cell_type": "code",
      "metadata": {
        "id": "pFrCRtb03Ebc",
        "colab_type": "code",
        "outputId": "828c2b80-5d22-40c0-8b75-433d2648788a",
        "colab": {
          "base_uri": "https://localhost:8080/",
          "height": 69
        }
      },
      "source": [
        "save_embeddings(pol, \"pol\")\n",
        "save_embeddings(eco, \"eco\")\n",
        "save_embeddings(mo, \"movies\")"
      ],
      "execution_count": 0,
      "outputs": [
        {
          "output_type": "stream",
          "text": [
            "100%|██████████| 5177/5177 [00:00<00:00, 8247.22it/s]\n",
            "100%|██████████| 22699/22699 [00:02<00:00, 8488.24it/s]\n",
            "100%|██████████| 33720/33720 [00:04<00:00, 8420.48it/s]\n"
          ],
          "name": "stderr"
        }
      ]
    },
    {
      "cell_type": "markdown",
      "metadata": {
        "id": "b8OVH10q4jOo",
        "colab_type": "text"
      },
      "source": [
        "You can now use the files to upload and explore the embeddings  on this website : https://projector.tensorflow.org"
      ]
    },
    {
      "cell_type": "markdown",
      "metadata": {
        "id": "lrLHvzAH5JY0",
        "colab_type": "text"
      },
      "source": [
        "## 5. Write an evaluation function that computes the correlation coefficient between human-rated similarity and Word2Vec's cosine similarity\n"
      ]
    },
    {
      "cell_type": "code",
      "metadata": {
        "id": "m-CP5TGp6kCY",
        "colab_type": "code",
        "outputId": "b1d90a6f-98a7-4e9d-dcb3-bc46c5854b5b",
        "colab": {
          "base_uri": "https://localhost:8080/",
          "height": 263
        }
      },
      "source": [
        "! wget --no-check-certificate https://www2.mta.ac.il/~gideon/datasets/MTURK-771.csv"
      ],
      "execution_count": 0,
      "outputs": [
        {
          "output_type": "stream",
          "text": [
            "--2020-02-12 15:08:09--  https://www2.mta.ac.il/~gideon/datasets/MTURK-771.csv\n",
            "Resolving www2.mta.ac.il (www2.mta.ac.il)... 192.116.64.52\n",
            "Connecting to www2.mta.ac.il (www2.mta.ac.il)|192.116.64.52|:443... connected.\n",
            "WARNING: cannot verify www2.mta.ac.il's certificate, issued by ‘CN=GeoTrust TLS RSA CA G1,OU=www.digicert.com,O=DigiCert Inc,C=US’:\n",
            "  Unable to locally verify the issuer's authority.\n",
            "HTTP request sent, awaiting response... 200 OK\n",
            "Length: 19629 (19K) [text/csv]\n",
            "Saving to: ‘MTURK-771.csv’\n",
            "\n",
            "MTURK-771.csv       100%[===================>]  19.17K  --.-KB/s    in 0s      \n",
            "\n",
            "2020-02-12 15:08:10 (232 MB/s) - ‘MTURK-771.csv’ saved [19629/19629]\n",
            "\n"
          ],
          "name": "stdout"
        }
      ]
    },
    {
      "cell_type": "code",
      "metadata": {
        "id": "TH_159RX7txI",
        "colab_type": "code",
        "colab": {}
      },
      "source": [
        "df_Mturk = pd.read_csv('./MTURK-771.csv', header=None)\n",
        "df_Mturk.columns = ['term1', 'term2', 'sim']\n",
        "df_Mturk.head()"
      ],
      "execution_count": 0,
      "outputs": []
    },
    {
      "cell_type": "markdown",
      "metadata": {
        "id": "OdCGMnWH8whA",
        "colab_type": "text"
      },
      "source": [
        "We'll use Mturk first. "
      ]
    },
    {
      "cell_type": "code",
      "metadata": {
        "id": "fURWb7-G806Q",
        "colab_type": "code",
        "colab": {}
      },
      "source": [
        "import numpy as np\n",
        "def compute_sim(x, y, model):\n",
        "  if x in model.wv and y in model.wv:\n",
        "    return model.wv.similarity(x, y)\n",
        "  else:\n",
        "    return np.nan"
      ],
      "execution_count": 0,
      "outputs": []
    },
    {
      "cell_type": "code",
      "metadata": {
        "id": "073wHpiR9NM8",
        "colab_type": "code",
        "outputId": "b9e5e643-ecb7-4aa7-d786-ca909bb40654",
        "colab": {
          "base_uri": "https://localhost:8080/",
          "height": 72
        }
      },
      "source": [
        "df_Mturk['embedding_sim_eco'] = df_Mturk.apply(lambda x: compute_sim(x.term1, x.term2, eco), axis=1)\n",
        "df_Mturk['embedding_sim_pol'] = df_Mturk.apply(lambda x: compute_sim(x.term1, x.term2, pol), axis=1)\n",
        "df_Mturk['embedding_sim_movies'] = df_Mturk.apply(lambda x: compute_sim(x.term1, x.term2, mo), axis=1)"
      ],
      "execution_count": 0,
      "outputs": [
        {
          "output_type": "stream",
          "text": [
            "/usr/local/lib/python3.6/dist-packages/gensim/matutils.py:737: FutureWarning: Conversion of the second argument of issubdtype from `int` to `np.signedinteger` is deprecated. In future, it will be treated as `np.int64 == np.dtype(int).type`.\n",
            "  if np.issubdtype(vec.dtype, np.int):\n"
          ],
          "name": "stderr"
        }
      ]
    },
    {
      "cell_type": "code",
      "metadata": {
        "id": "YD8-1lnJ-LzM",
        "colab_type": "code",
        "outputId": "1514ff1c-f2ea-4dec-f730-ca19ab46a30d",
        "colab": {
          "base_uri": "https://localhost:8080/",
          "height": 206
        }
      },
      "source": [
        "df_Mturk.head()"
      ],
      "execution_count": 0,
      "outputs": [
        {
          "output_type": "execute_result",
          "data": {
            "text/html": [
              "<div>\n",
              "<style scoped>\n",
              "    .dataframe tbody tr th:only-of-type {\n",
              "        vertical-align: middle;\n",
              "    }\n",
              "\n",
              "    .dataframe tbody tr th {\n",
              "        vertical-align: top;\n",
              "    }\n",
              "\n",
              "    .dataframe thead th {\n",
              "        text-align: right;\n",
              "    }\n",
              "</style>\n",
              "<table border=\"1\" class=\"dataframe\">\n",
              "  <thead>\n",
              "    <tr style=\"text-align: right;\">\n",
              "      <th></th>\n",
              "      <th>term1</th>\n",
              "      <th>term2</th>\n",
              "      <th>sim</th>\n",
              "      <th>embedding_sim_eco</th>\n",
              "      <th>embedding_sim_pol</th>\n",
              "      <th>embedding_sim_movies</th>\n",
              "    </tr>\n",
              "  </thead>\n",
              "  <tbody>\n",
              "    <tr>\n",
              "      <th>0</th>\n",
              "      <td>access</td>\n",
              "      <td>gateway</td>\n",
              "      <td>3.791667</td>\n",
              "      <td>0.303984</td>\n",
              "      <td>NaN</td>\n",
              "      <td>0.264525</td>\n",
              "    </tr>\n",
              "    <tr>\n",
              "      <th>1</th>\n",
              "      <td>account</td>\n",
              "      <td>explanation</td>\n",
              "      <td>2.000000</td>\n",
              "      <td>0.403323</td>\n",
              "      <td>0.921039</td>\n",
              "      <td>0.158634</td>\n",
              "    </tr>\n",
              "    <tr>\n",
              "      <th>2</th>\n",
              "      <td>account</td>\n",
              "      <td>invoice</td>\n",
              "      <td>3.750000</td>\n",
              "      <td>NaN</td>\n",
              "      <td>NaN</td>\n",
              "      <td>NaN</td>\n",
              "    </tr>\n",
              "    <tr>\n",
              "      <th>3</th>\n",
              "      <td>account</td>\n",
              "      <td>statement</td>\n",
              "      <td>3.681818</td>\n",
              "      <td>-0.013284</td>\n",
              "      <td>0.679241</td>\n",
              "      <td>0.457090</td>\n",
              "    </tr>\n",
              "    <tr>\n",
              "      <th>4</th>\n",
              "      <td>acoustic</td>\n",
              "      <td>remedy</td>\n",
              "      <td>1.227273</td>\n",
              "      <td>NaN</td>\n",
              "      <td>NaN</td>\n",
              "      <td>-0.127397</td>\n",
              "    </tr>\n",
              "  </tbody>\n",
              "</table>\n",
              "</div>"
            ],
            "text/plain": [
              "      term1        term2  ...  embedding_sim_pol  embedding_sim_movies\n",
              "0    access      gateway  ...                NaN              0.264525\n",
              "1   account  explanation  ...           0.921039              0.158634\n",
              "2   account      invoice  ...                NaN                   NaN\n",
              "3   account    statement  ...           0.679241              0.457090\n",
              "4  acoustic       remedy  ...                NaN             -0.127397\n",
              "\n",
              "[5 rows x 6 columns]"
            ]
          },
          "metadata": {
            "tags": []
          },
          "execution_count": 74
        }
      ]
    },
    {
      "cell_type": "code",
      "metadata": {
        "id": "HIzwk1JL-Qx8",
        "colab_type": "code",
        "outputId": "cae3d8b2-2594-4dcf-9440-d546d8d67419",
        "colab": {
          "base_uri": "https://localhost:8080/",
          "height": 513
        }
      },
      "source": [
        "import seaborn as sns\n",
        "import numpy as np\n",
        "from scipy.stats import pearsonr, spearmanr\n",
        "%matplotlib inline\n",
        "sns.jointplot(data=df_Mturk.dropna(subset=['embedding_sim_eco']), x=\"embedding_sim_eco\", y=\"sim\").annotate(pearsonr)"
      ],
      "execution_count": 0,
      "outputs": [
        {
          "output_type": "stream",
          "text": [
            "/usr/local/lib/python3.6/dist-packages/seaborn/axisgrid.py:1848: UserWarning: JointGrid annotation is deprecated and will be removed in a future release.\n",
            "  warnings.warn(UserWarning(msg))\n"
          ],
          "name": "stderr"
        },
        {
          "output_type": "execute_result",
          "data": {
            "text/plain": [
              "<seaborn.axisgrid.JointGrid at 0x7fe5949ab860>"
            ]
          },
          "metadata": {
            "tags": []
          },
          "execution_count": 75
        },
        {
          "output_type": "display_data",
          "data": {
            "image/png": "[encoded data removed]",
            "text/plain": [
              "<Figure size 432x432 with 3 Axes>"
            ]
          },
          "metadata": {
            "tags": []
          }
        }
      ]
    },
    {
      "cell_type": "code",
      "metadata": {
        "id": "VBbZyBC7-_XM",
        "colab_type": "code",
        "outputId": "1c3a61e8-0355-4716-a782-90e1474bd886",
        "colab": {
          "base_uri": "https://localhost:8080/",
          "height": 513
        }
      },
      "source": [
        "sns.jointplot(data=df_Mturk.dropna(subset=['embedding_sim_pol']), x=\"embedding_sim_pol\", y=\"sim\").annotate(pearsonr)"
      ],
      "execution_count": 0,
      "outputs": [
        {
          "output_type": "stream",
          "text": [
            "/usr/local/lib/python3.6/dist-packages/seaborn/axisgrid.py:1848: UserWarning: JointGrid annotation is deprecated and will be removed in a future release.\n",
            "  warnings.warn(UserWarning(msg))\n"
          ],
          "name": "stderr"
        },
        {
          "output_type": "execute_result",
          "data": {
            "text/plain": [
              "<seaborn.axisgrid.JointGrid at 0x7fe593bb1470>"
            ]
          },
          "metadata": {
            "tags": []
          },
          "execution_count": 76
        },
        {
          "output_type": "display_data",
          "data": {
            "image/png": "[encoded data removed]",
            "text/plain": [
              "<Figure size 432x432 with 3 Axes>"
            ]
          },
          "metadata": {
            "tags": []
          }
        }
      ]
    },
    {
      "cell_type": "code",
      "metadata": {
        "id": "agEHe2sJ_D4Q",
        "colab_type": "code",
        "outputId": "80f682e2-207d-4994-9ffc-e780e8418fd2",
        "colab": {
          "base_uri": "https://localhost:8080/",
          "height": 513
        }
      },
      "source": [
        "sns.jointplot(data=df_Mturk.dropna(subset=['embedding_sim_movies']), x=\"embedding_sim_movies\", y=\"sim\").annotate(pearsonr)"
      ],
      "execution_count": 0,
      "outputs": [
        {
          "output_type": "stream",
          "text": [
            "/usr/local/lib/python3.6/dist-packages/seaborn/axisgrid.py:1848: UserWarning: JointGrid annotation is deprecated and will be removed in a future release.\n",
            "  warnings.warn(UserWarning(msg))\n"
          ],
          "name": "stderr"
        },
        {
          "output_type": "execute_result",
          "data": {
            "text/plain": [
              "<seaborn.axisgrid.JointGrid at 0x7fe5937134e0>"
            ]
          },
          "metadata": {
            "tags": []
          },
          "execution_count": 77
        },
        {
          "output_type": "display_data",
          "data": {
            "image/png": "[encoded data removed]",
            "text/plain": [
              "<Figure size 432x432 with 3 Axes>"
            ]
          },
          "metadata": {
            "tags": []
          }
        }
      ]
    },
    {
      "cell_type": "markdown",
      "metadata": {
        "id": "LZWtqoXV_aog",
        "colab_type": "text"
      },
      "source": [
        "As expected, the movies embeddings performs better on the word similarity task than the economics, and politics embeddings. \n",
        "\n",
        "Intrinstic quality comparison is the following : \n",
        "movies > eco > pol.\n",
        "\n",
        "This can be explained by the facts that :\n",
        "- The movies corpus is the largest\n",
        "- The movies corpus is the cleanest\n",
        "- The economics corpus contains more domain-specific vocabulary that is not assessed by Mturk. \n",
        "- Politics and economics don't have some words that are in Mturk, and are thus not evaluated on that. \n",
        "\n",
        "\n",
        "\n",
        "Interested student could tune word2vec models hyperparameters to optimize the pearson coefficient, as an exercise. "
      ]
    }
  ]
}